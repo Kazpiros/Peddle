{
 "cells": [
  {
   "cell_type": "markdown",
   "id": "a87ed1e6-bbea-44ca-8d88-7805d5dc8edb",
   "metadata": {},
   "source": [
    "## Noise Floor calculations\n",
    "- LSB is the smallest resolvable voltage resolution of the ADC, also acts as a \"Maximum noise floor\" $V_{lsb} = \\frac{V_{ref}}{2^N}$\n",
    "- As V_ref is increased, Resolution decreases but noise floor can be neglected\n",
    "  "
   ]
  },
  {
   "cell_type": "code",
   "execution_count": 34,
   "id": "2398f98c-deb2-48b7-930f-5e2ee24f157e",
   "metadata": {},
   "outputs": [],
   "source": [
    "# Imports and Variable definitions\n",
    "import numpy as np\n",
    "## TODO: add Noise floor calcs onto the external addition, w/ shot and 1/f\n",
    "\n",
    "V_ref_proposed = 1.1    # Proposed V_ref (50 mV)\n",
    "\n",
    "RMS = 1e-3 # V_rms from external components\n",
    "SINAD_adc = 63 #dB\n",
    "ADC_bits = 10 # ADC bits\n",
    "\n",
    "user_V_ref = 5.1 "
   ]
  },
  {
   "cell_type": "code",
   "execution_count": 35,
   "id": "3d03c4e8-2a1e-44a1-b7be-380e8e3e53e0",
   "metadata": {},
   "outputs": [
    {
     "name": "stdout",
     "output_type": "stream",
     "text": [
      "Optimal V_ref: 3.995 V\n",
      "Overall SINAD (optimal): 59.99 dB\n",
      "ENOB (optimal): 9.67 bits\n",
      "\n",
      "User-specified V_ref: 5.100 V\n",
      "Overall SINAD with user V_ref: 60.92 dB\n",
      "ENOB with user V_ref: 9.83 bits\n"
     ]
    }
   ],
   "source": [
    "V_ref_opt = 2 * np.sqrt(2) * RMS * 10**(SINAD_adc / 20)\n",
    "\n",
    "V_signal_rms_opt = V_ref_opt / (2 * np.sqrt(2))\n",
    "SNR_sys_opt = 20 * np.log10(V_signal_rms_opt / RMS)  # CORRECTED LINE\n",
    "\n",
    "\n",
    "SINAD_total_opt = -10 * np.log10(10**(-SINAD_adc / 10) + 10**(-SNR_sys_opt / 10))\n",
    "ENOB_opt = (SINAD_total_opt - 1.76) / 6.02\n",
    "\n",
    "print(\"Optimal V_ref: {:.3f} V\".format(V_ref_opt))\n",
    "print(\"Overall SINAD (optimal): {:.2f} dB\".format(SINAD_total_opt))\n",
    "print(\"ENOB (optimal): {:.2f} bits\".format(ENOB_opt))\n",
    "\n",
    "V_signal_rms_user = user_V_ref / (2 * np.sqrt(2))\n",
    "SNR_sys_user = 20 * np.log10(V_signal_rms_user / RMS)\n",
    "SINAD_total_user = -10 * np.log10(10**(-SINAD_adc / 10) + 10**(-SNR_sys_user / 10))\n",
    "ENOB_user = (SINAD_total_user - 1.76) / 6.02\n",
    "\n",
    "print(\"\\nUser-specified V_ref: {:.3f} V\".format(user_V_ref))\n",
    "print(\"Overall SINAD with user V_ref: {:.2f} dB\".format(SINAD_total_user))\n",
    "print(\"ENOB with user V_ref: {:.2f} bits\".format(ENOB_user))"
   ]
  },
  {
   "cell_type": "markdown",
   "id": "7448f7c6-0191-415b-8eb8-760819d7d705",
   "metadata": {},
   "source": [
    "links \n",
    "[noise from TI](https://www.ti.com/lit/an/slva043b/slva043b.pdf)"
   ]
  },
  {
   "cell_type": "markdown",
   "id": "3e347bd3-5e07-433a-948a-f81b7b3a1b97",
   "metadata": {},
   "source": [
    "# Alias Filter & Acq Time design"
   ]
  },
  {
   "cell_type": "code",
   "execution_count": 5,
   "id": "09a25c80-f39a-4b80-8d37-849ecbe07b8d",
   "metadata": {},
   "outputs": [],
   "source": [
    "f_c = 16000  # 16 kHz\n",
    "target_settled = 0.99\n",
    "input_R = 100e3\n",
    "# Define the resistor search range (in ohms)\n",
    "R_min = 1e3    # 1 kΩ\n",
    "R_max = 10e3   # 10 kΩ\n",
    "num_points = 96  # Number of discrete resistor values to try\n",
    "\n",
    "C_samp = 10e-11 # intrinic to the ADC "
   ]
  },
  {
   "cell_type": "code",
   "execution_count": 36,
   "id": "6130befa-bd2c-4405-a027-7855fe21e983",
   "metadata": {},
   "outputs": [
    {
     "name": "stdout",
     "output_type": "stream",
     "text": [
      "Optimized RC Filter Parameters:\n",
      "Resistor (R): 1000.00 Ω\n",
      "Capacitor (C): 9.95 nF\n",
      "RC Time Constant: 9.95 µs\n",
      "Settling at t_acq: 99.99%\n",
      "Error from target settling: 0.99%\n"
     ]
    }
   ],
   "source": [
    "R_values = np.linspace(R_min, R_max, num_points)\n",
    "\n",
    "C_values = 1 / (2 * np.pi * f_c * R_values)\n",
    "RC_values = R_values * C_values\n",
    "\n",
    "t_acq = 9 * (R_values + input_R)*C_samp\n",
    "settle_values = 1 - np.exp(-t_acq / RC_values)\n",
    "\n",
    "errors = np.abs(settle_values - target_settled)\n",
    "\n",
    "best_index = np.argmin(errors)\n",
    "\n",
    "best_R = R_values[best_index]\n",
    "best_C = C_values[best_index]\n",
    "best_RC = RC_values[best_index]\n",
    "best_settle = settle_values[best_index]\n",
    "best_error = errors[best_index]\n",
    "\n",
    "print(\"Optimized RC Filter Parameters:\")\n",
    "print(f\"Resistor (R): {best_R:.2f} Ω\")\n",
    "print(f\"Capacitor (C): {best_C*1e9:.2f} nF\")\n",
    "print(f\"RC Time Constant: {best_RC*1e6:.2f} µs\")\n",
    "print(f\"Settling at t_acq: {best_settle*100:.2f}%\")\n",
    "print(f\"Error from target settling: {best_error*100:.2f}%\")\n",
    "# (This formula ensures system noise doesn't degrade ADC performance)"
   ]
  },
  {
   "cell_type": "code",
   "execution_count": null,
   "id": "588100df-5ab8-4cb3-94b2-bb350274bb87",
   "metadata": {},
   "outputs": [],
   "source": []
  }
 ],
 "metadata": {
  "kernelspec": {
   "display_name": "Python 3 (ipykernel)",
   "language": "python",
   "name": "python3"
  },
  "language_info": {
   "codemirror_mode": {
    "name": "ipython",
    "version": 3
   },
   "file_extension": ".py",
   "mimetype": "text/x-python",
   "name": "python",
   "nbconvert_exporter": "python",
   "pygments_lexer": "ipython3",
   "version": "3.13.2"
  }
 },
 "nbformat": 4,
 "nbformat_minor": 5
}
